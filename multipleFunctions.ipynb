{
 "cells": [
  {
   "cell_type": "code",
   "execution_count": 8,
   "id": "d5852e25",
   "metadata": {},
   "outputs": [],
   "source": [
    "class manyfunctions():\n",
    "    def Subfields():\n",
    "        print(\"Sub-fields in AI are:\")\n",
    "        print(\"\\n Machine Learning \\n Neural Networks \\n Vision \\n Robotics \\n Speech \\n Processing Natural \\n Language Processing\")\n",
    "        \n",
    "    def OddEven():\n",
    "        i=int(input(\"Enter the number\"))\n",
    "        if(i % 2 == 0):\n",
    "            print(i,\"is Even number\")\n",
    "        else:\n",
    "            print(i,\"is Odd number\")\n",
    "    def Elegible():\n",
    "        gender= input(\"Enter your gender: M or F: \")\n",
    "        age=int(input(\"Enter your age: \"))\n",
    "        if(gender==\"M\" and age>=20) or (gender==\"F\" and age>=18):\n",
    "            return \"Eligible\"\n",
    "        else:\n",
    "            return \"Not eligible\"\n",
    "    \n",
    "    def BMI():\n",
    "        bmi=int(input(\"Enter the BMI Index : \"))\n",
    "        if(bmi<18.5):\n",
    "             message=\"underweight\"\n",
    "        elif(bmi<24.9):\n",
    "            message=\"Normal\"\n",
    "        elif (bmi<29.9):\n",
    "            message=\"Overweight\"\n",
    "        else:\n",
    "            message=\"Obese\"\n",
    "            return message\n"
   ]
  },
  {
   "cell_type": "code",
   "execution_count": null,
   "id": "071468f6",
   "metadata": {},
   "outputs": [],
   "source": []
  }
 ],
 "metadata": {
  "kernelspec": {
   "display_name": "Python 3 (ipykernel)",
   "language": "python",
   "name": "python3"
  },
  "language_info": {
   "codemirror_mode": {
    "name": "ipython",
    "version": 3
   },
   "file_extension": ".py",
   "mimetype": "text/x-python",
   "name": "python",
   "nbconvert_exporter": "python",
   "pygments_lexer": "ipython3",
   "version": "3.10.9"
  }
 },
 "nbformat": 4,
 "nbformat_minor": 5
}
