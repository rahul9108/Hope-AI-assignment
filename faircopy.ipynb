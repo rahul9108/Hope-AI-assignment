{
 "cells": [
  {
   "cell_type": "code",
   "execution_count": 21,
   "id": "df0ecf0d",
   "metadata": {},
   "outputs": [],
   "source": [
    "from multipleFunctions import manyfunctions"
   ]
  },
  {
   "cell_type": "code",
   "execution_count": 22,
   "id": "96e22415",
   "metadata": {},
   "outputs": [
    {
     "name": "stdout",
     "output_type": "stream",
     "text": [
      "Sub-fields in AI are:\n",
      "\n",
      " Machine Learning \n",
      " Neural Networks \n",
      " Vision \n",
      " Robotics \n",
      " Speech \n",
      " Processing Natural \n",
      " Language Processing\n"
     ]
    }
   ],
   "source": [
    "manyfunctions.Subfields()"
   ]
  },
  {
   "cell_type": "code",
   "execution_count": 23,
   "id": "4df1fd45",
   "metadata": {},
   "outputs": [
    {
     "name": "stdout",
     "output_type": "stream",
     "text": [
      "Enter the number5\n",
      "5 is Odd number\n"
     ]
    }
   ],
   "source": [
    "manyfunctions.OddEven()"
   ]
  },
  {
   "cell_type": "code",
   "execution_count": 25,
   "id": "7cbf9993",
   "metadata": {},
   "outputs": [
    {
     "name": "stdout",
     "output_type": "stream",
     "text": [
      "Enter your gender: M or F: M\n",
      "Enter your age: 85\n"
     ]
    },
    {
     "data": {
      "text/plain": [
       "'Eligible'"
      ]
     },
     "execution_count": 25,
     "metadata": {},
     "output_type": "execute_result"
    }
   ],
   "source": [
    "manyfunctions.Elegible()"
   ]
  },
  {
   "cell_type": "code",
   "execution_count": 28,
   "id": "c930fc7c",
   "metadata": {},
   "outputs": [
    {
     "name": "stdout",
     "output_type": "stream",
     "text": [
      "Enter the BMI Index : 31\n"
     ]
    },
    {
     "data": {
      "text/plain": [
       "'Obese'"
      ]
     },
     "execution_count": 28,
     "metadata": {},
     "output_type": "execute_result"
    }
   ],
   "source": [
    "manyfunctions.BMI()"
   ]
  },
  {
   "cell_type": "code",
   "execution_count": null,
   "id": "cc5691fd",
   "metadata": {},
   "outputs": [],
   "source": []
  }
 ],
 "metadata": {
  "kernelspec": {
   "display_name": "Python 3 (ipykernel)",
   "language": "python",
   "name": "python3"
  },
  "language_info": {
   "codemirror_mode": {
    "name": "ipython",
    "version": 3
   },
   "file_extension": ".py",
   "mimetype": "text/x-python",
   "name": "python",
   "nbconvert_exporter": "python",
   "pygments_lexer": "ipython3",
   "version": "3.10.9"
  }
 },
 "nbformat": 4,
 "nbformat_minor": 5
}
