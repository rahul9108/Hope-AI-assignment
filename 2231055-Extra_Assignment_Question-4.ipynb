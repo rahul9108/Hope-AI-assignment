{
 "cells": [
  {
   "cell_type": "code",
   "execution_count": 1,
   "id": "eb202fc7",
   "metadata": {},
   "outputs": [
    {
     "name": "stdout",
     "output_type": "stream",
     "text": [
      "Sub-fields in AI are:\n",
      "\n",
      " Machine Learning \n",
      " Neural Networks \n",
      " Vision \n",
      " Robotics \n",
      " Speech \n",
      " Processing Natural \n",
      " Language Processing\n"
     ]
    }
   ],
   "source": [
    "class SubfieldsInAI:\n",
    "    def Subfields():\n",
    "        print(\"Sub-fields in AI are:\")\n",
    "        print(\"\\n Machine Learning \\n Neural Networks \\n Vision \\n Robotics \\n Speech \\n Processing Natural \\n Language Processing\")\n",
    "        \n",
    "SubfieldsInAI.Subfields()"
   ]
  },
  {
   "cell_type": "code",
   "execution_count": 2,
   "id": "2bcbe4a7",
   "metadata": {},
   "outputs": [
    {
     "name": "stdout",
     "output_type": "stream",
     "text": [
      "Enter the number52452\n",
      "52452 is Even number\n"
     ]
    }
   ],
   "source": [
    "class oddEven:\n",
    "    def OddEven():\n",
    "        i=int(input(\"Enter the number\"))\n",
    "        if(i % 2 == 0):\n",
    "            print(i,\"is Even number\")\n",
    "        else:\n",
    "            print(i,\"is Odd number\")\n",
    "    \n",
    "oddEven.OddEven()"
   ]
  },
  {
   "cell_type": "code",
   "execution_count": 3,
   "id": "c1878d11",
   "metadata": {},
   "outputs": [
    {
     "name": "stdout",
     "output_type": "stream",
     "text": [
      "Enter the number89786\n",
      "89786 is Even number\n"
     ]
    }
   ],
   "source": [
    "class oddEven:\n",
    "    def OddEven():\n",
    "        i=int(input(\"Enter the number\"))\n",
    "        if(i % 2 == 0):\n",
    "            print(i,\"is Even number\")\n",
    "        else:\n",
    "            print(i,\"is Odd number\")\n",
    "    \n",
    "oddEven.OddEven()"
   ]
  },
  {
   "cell_type": "code",
   "execution_count": 37,
   "id": "43d31920",
   "metadata": {},
   "outputs": [
    {
     "name": "stdout",
     "output_type": "stream",
     "text": [
      "Enter your gender: M or F: F\n",
      "Enter your age: 17\n"
     ]
    },
    {
     "data": {
      "text/plain": [
       "'Not eligible'"
      ]
     },
     "execution_count": 37,
     "metadata": {},
     "output_type": "execute_result"
    }
   ],
   "source": [
    "class ElegiblityForMarriage:\n",
    "    def Elegible():\n",
    "        gender= input(\"Enter your gender: M or F: \")\n",
    "        age=int(input(\"Enter your age: \"))\n",
    "        if(gender==\"M\" and age>=20) or (gender==\"F\" and age>=18):\n",
    "            return \"Eligible\"\n",
    "        else:\n",
    "            return \"Not eligible\"\n",
    "        \n",
    "ElegiblityForMarriage.Elegible()"
   ]
  },
  {
   "cell_type": "code",
   "execution_count": 55,
   "id": "ac7cdd99",
   "metadata": {},
   "outputs": [
    {
     "name": "stdout",
     "output_type": "stream",
     "text": [
      "Subject1 = 98\n",
      "Subject2 = 87\n",
      "Subject3 = 95\n",
      "Subject4 = 95\n",
      "Subject5 = 93\n",
      "Total : 468\n",
      "Percentage : 93.60000000000001\n"
     ]
    }
   ],
   "source": [
    "class FindPercent:\n",
    "    def percentage():\n",
    "        total = sum(marks)\n",
    "        print(\"Total :\", total)\n",
    "        percentage = (total / (len(marks) * 100)) * 100\n",
    "        print(\"Percentage :\", percentage)\n",
    "       \n",
    "\n",
    "    marks = [98, 87, 95, 95, 93]\n",
    "\n",
    "print(f\"Subject1 = {marks[0]}\")\n",
    "print(f\"Subject2 = {marks[1]}\")\n",
    "print(f\"Subject3 = {marks[2]}\")\n",
    "print(f\"Subject4 = {marks[3]}\")\n",
    "print(f\"Subject5 = {marks[4]}\")\n",
    "FindPercent.percentage()"
   ]
  },
  {
   "cell_type": "code",
   "execution_count": 2,
   "id": "bc01901d",
   "metadata": {},
   "outputs": [
    {
     "name": "stdout",
     "output_type": "stream",
     "text": [
      "Height:32\n",
      "breadth:34\n",
      "544.0\n",
      "Height1:2\n",
      "Height2:4\n",
      "breadth:4\n"
     ]
    },
    {
     "data": {
      "text/plain": [
       "10"
      ]
     },
     "execution_count": 2,
     "metadata": {},
     "output_type": "execute_result"
    }
   ],
   "source": [
    "class triangle:\n",
    "    def area(height,breadth):\n",
    "        area = (height * breadth) / 2\n",
    "        return area\n",
    "    \n",
    "    def perimeter(height1,height2,breadth):\n",
    "        perimeter = height1 + height2 + breadth\n",
    "        return perimeter\n",
    "\n",
    "h= int(input(\"Height:\"))\n",
    "b= int(input(\"breadth:\"))\n",
    "\n",
    "area=triangle.area(b,h)\n",
    "print(area)\n",
    "\n",
    "h1=int(input(\"Height1:\"))\n",
    "h2=int(input(\"Height2:\"))\n",
    "b3=int(input(\"breadth:\"))\n",
    "\n",
    "triangle.perimeter(h1,h2,b3)\n",
    "\n"
   ]
  },
  {
   "cell_type": "code",
   "execution_count": null,
   "id": "2216ab85",
   "metadata": {},
   "outputs": [],
   "source": []
  }
 ],
 "metadata": {
  "kernelspec": {
   "display_name": "Python 3 (ipykernel)",
   "language": "python",
   "name": "python3"
  },
  "language_info": {
   "codemirror_mode": {
    "name": "ipython",
    "version": 3
   },
   "file_extension": ".py",
   "mimetype": "text/x-python",
   "name": "python",
   "nbconvert_exporter": "python",
   "pygments_lexer": "ipython3",
   "version": "3.10.9"
  }
 },
 "nbformat": 4,
 "nbformat_minor": 5
}
