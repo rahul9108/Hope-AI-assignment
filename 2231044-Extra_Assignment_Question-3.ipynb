{
 "cells": [
  {
   "cell_type": "code",
   "execution_count": 5,
   "id": "a1ae5012",
   "metadata": {},
   "outputs": [
    {
     "name": "stdout",
     "output_type": "stream",
     "text": [
      "Enter the number: 10\n",
      "Correct\n"
     ]
    }
   ],
   "source": [
    "i=int(input(\"Enter the number: \"))\n",
    "if(i==10):\n",
    "    print(\"Correct\")"
   ]
  },
  {
   "cell_type": "code",
   "execution_count": 7,
   "id": "335d0cf8",
   "metadata": {},
   "outputs": [
    {
     "name": "stdout",
     "output_type": "stream",
     "text": [
      "Enter the password:HOPE@123\n",
      "Your password is correct\n"
     ]
    }
   ],
   "source": [
    "pwd=input(\"Enter the password:\")\n",
    "if(pwd==\"HOPE@123\"):\n",
    "    print(\"Your password is correct\")\n",
    "else:\n",
    "    print(\"Your password is incorrect\")"
   ]
  },
  {
   "cell_type": "code",
   "execution_count": 8,
   "id": "aa433562",
   "metadata": {},
   "outputs": [
    {
     "name": "stdout",
     "output_type": "stream",
     "text": [
      "Enter the password:hOPE@125\n",
      "Your password is incorrect\n"
     ]
    }
   ],
   "source": [
    "pwd=input(\"Enter the password:\")\n",
    "if(pwd==\"HOPE@123\"):\n",
    "    print(\"Your password is correct\")\n",
    "else:\n",
    "    print(\"Your password is incorrect\")"
   ]
  },
  {
   "cell_type": "code",
   "execution_count": 12,
   "id": "bd5984d4",
   "metadata": {},
   "outputs": [
    {
     "name": "stdout",
     "output_type": "stream",
     "text": [
      "Enter the age :61\n",
      "Senior citizen\n"
     ]
    }
   ],
   "source": [
    "ppl=int(input(\"Enter the age :\"))\n",
    "if(ppl<18):\n",
    "    print(\"Children\")\n",
    "elif(ppl<35):\n",
    "    print(\"Adult\")\n",
    "elif(ppl<60):\n",
    "    print(\"Citizen\")\n",
    "else:\n",
    "    print(\"Senior citizen\")"
   ]
  },
  {
   "cell_type": "code",
   "execution_count": 19,
   "id": "add48480",
   "metadata": {},
   "outputs": [
    {
     "name": "stdout",
     "output_type": "stream",
     "text": [
      "Enter the number :-78\n",
      "No is negative\n"
     ]
    }
   ],
   "source": [
    "num=int(input(\"Enter the number :\"))\n",
    "if(num>0):\n",
    "        print(\"No is positive\")\n",
    "elif(num<0):\n",
    "        print(\"No is negative\")\n",
    "else:\n",
    "        print(\"No is Zero\")"
   ]
  },
  {
   "cell_type": "code",
   "execution_count": 25,
   "id": "835baa7a",
   "metadata": {},
   "outputs": [
    {
     "name": "stdout",
     "output_type": "stream",
     "text": [
      "Enter the number to check :22\n",
      "No is not divisible by 5\n"
     ]
    }
   ],
   "source": [
    "num=int(input(\"Enter the number to check :\"))\n",
    "if(num%5==0):\n",
    "        print(\"No is Divisible by 5\")\n",
    "else:\n",
    "        print(\"No is not divisible by 5\")"
   ]
  },
  {
   "cell_type": "code",
   "execution_count": null,
   "id": "87888973",
   "metadata": {},
   "outputs": [],
   "source": []
  }
 ],
 "metadata": {
  "kernelspec": {
   "display_name": "Python 3 (ipykernel)",
   "language": "python",
   "name": "python3"
  },
  "language_info": {
   "codemirror_mode": {
    "name": "ipython",
    "version": 3
   },
   "file_extension": ".py",
   "mimetype": "text/x-python",
   "name": "python",
   "nbconvert_exporter": "python",
   "pygments_lexer": "ipython3",
   "version": "3.10.9"
  }
 },
 "nbformat": 4,
 "nbformat_minor": 5
}
