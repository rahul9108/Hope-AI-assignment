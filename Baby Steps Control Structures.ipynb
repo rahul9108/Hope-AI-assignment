{
 "cells": [
  {
   "cell_type": "code",
   "execution_count": 2,
   "id": "c76a90ad",
   "metadata": {},
   "outputs": [
    {
     "name": "stdout",
     "output_type": "stream",
     "text": [
      "Welcome to assignment-1\n"
     ]
    }
   ],
   "source": [
    "print (\"Welcome to assignment-1\")"
   ]
  },
  {
   "cell_type": "code",
   "execution_count": 10,
   "id": "5281dc0f",
   "metadata": {},
   "outputs": [
    {
     "name": "stdout",
     "output_type": "stream",
     "text": [
      "Num1= 10 Num1= 30 Add= 40\n"
     ]
    }
   ],
   "source": [
    "num1= 10;num2= 30\n",
    "Add= num1+num2\n",
    "print (\"Num1=\",num1,\n",
    "       \"Num1=\",num2, \n",
    "       \"Add=\",Add)\n"
   ]
  },
  {
   "cell_type": "code",
   "execution_count": 11,
   "id": "55d01488",
   "metadata": {},
   "outputs": [],
   "source": [
    " #Body Mass Index \n",
    "    #BMI = kg/m2"
   ]
  },
  {
   "cell_type": "code",
   "execution_count": 21,
   "id": "0032d8f8",
   "metadata": {},
   "outputs": [
    {
     "name": "stdout",
     "output_type": "stream",
     "text": [
      "Enter your weight82\n",
      "Enter your height in meter1.72\n",
      "27.717685235262305\n",
      "Overweight\n"
     ]
    }
   ],
   "source": [
    "kg=int(input(\"Enter your weight\"))\n",
    "h= float(input(\"Enter your height in meter\"))\n",
    "BMI=kg/h**2\n",
    "print(BMI)\n",
    "if(BMI<25):\n",
    "    print(\"Normal\")\n",
    "elif (BMI>35):\n",
    "    print(\"Obese\")\n",
    "else:\n",
    "    print(\"Overweight\")"
   ]
  },
  {
   "cell_type": "code",
   "execution_count": 22,
   "id": "8dc1de3a",
   "metadata": {},
   "outputs": [
    {
     "name": "stdout",
     "output_type": "stream",
     "text": [
      "Enter the BMI Index : 27\n",
      "Overweight\n"
     ]
    }
   ],
   "source": [
    "bmi=int(input(\"Enter the BMI Index : \"))\n",
    "if(bmi<25):\n",
    "    print(\"Normal\")\n",
    "elif (bmi>35):\n",
    "    print(\"Obese\")\n",
    "else:\n",
    "    print(\"Overweight\")"
   ]
  },
  {
   "cell_type": "code",
   "execution_count": null,
   "id": "22c01e7a",
   "metadata": {},
   "outputs": [],
   "source": []
  }
 ],
 "metadata": {
  "kernelspec": {
   "display_name": "Python 3 (ipykernel)",
   "language": "python",
   "name": "python3"
  },
  "language_info": {
   "codemirror_mode": {
    "name": "ipython",
    "version": 3
   },
   "file_extension": ".py",
   "mimetype": "text/x-python",
   "name": "python",
   "nbconvert_exporter": "python",
   "pygments_lexer": "ipython3",
   "version": "3.10.9"
  }
 },
 "nbformat": 4,
 "nbformat_minor": 5
}
